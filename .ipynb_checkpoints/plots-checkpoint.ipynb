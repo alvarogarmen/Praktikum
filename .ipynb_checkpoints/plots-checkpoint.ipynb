{
 "cells": [
  {
   "cell_type": "markdown",
   "id": "dc458e01",
   "metadata": {},
   "source": [
    "## Script to visualize the performance of Dijkstra, A* and ALT"
   ]
  },
  {
   "cell_type": "code",
   "execution_count": 1,
   "id": "958d446c",
   "metadata": {},
   "outputs": [],
   "source": [
    "## Imports\n",
    "import numpy as np\n",
    "import matplotlib.pyplot as plt"
   ]
  },
  {
   "cell_type": "code",
   "execution_count": 2,
   "id": "7f81be19",
   "metadata": {},
   "outputs": [],
   "source": [
    "## Read data\n",
    "\n",
    "# Dijkstra data\n",
    "explored_data = np.loadtxt('explored_nodes', delimiter = ' ')\n",
    "data = np.loadtxt('roadnetworks/deu.graph.xyz', delimiter=' ', skiprows=1)\n",
    "path_data = np.loadtxt('path')\n",
    "\n",
    "# A* data\n",
    "\n",
    "A_explored_data = np.loadtxt('AStar_explored_nodes.txt', delimiter = ' ')\n",
    "A_path_data = np.loadtxt('AStar_path.txt')\n",
    "\n",
    "# A* Bidirectional\n",
    "\n",
    "#ABid_explored_data = np.loadtxt('AStarBidi_explored')\n",
    "#ABid_path_data = np.loadtxt('AStarBidi_path')\n",
    "\n",
    "# ALT Avoid\n",
    "\n",
    "Avoid_explored_data = np.loadtxt('ALTAvoid_explored')\n",
    "Avoid_path_data = np.loadtxt('ALTAvoid_path')\n",
    "\n",
    "# ALT Max\n",
    "\n",
    "Max_explored_data = np.loadtxt('Max_explored_nodes.txt', delimiter = ' ')\n",
    "Max_path_data = np.loadtxt('Max_path.txt')\n",
    "\n",
    "# ALT Furthest\n",
    "\n",
    "Furthest_explored_data = np.loadtxt('Furthest_explored_nodes.txt', delimiter = ' ')\n",
    "Furthest_path_data =  np.loadtxt('Max_path.txt')\n",
    "Furthest_landmarks_data = np.loadtxt('landmarksbelgiumcoord')\n",
    "\n"
   ]
  },
  {
   "cell_type": "code",
   "execution_count": null,
   "id": "d77cbb87",
   "metadata": {},
   "outputs": [],
   "source": [
    "## Split coordinates into arrays\n",
    "\n",
    "# Global\n",
    "x_coord = [subarray[0] for subarray in data]\n",
    "y_coord = [subarray[1] for subarray in data]\n",
    "\n",
    "# Dijkstra\n",
    "explored_x = [subarray[0] for subarray in explored_data]\n",
    "explored_y = [subarray[1] for subarray in explored_data]\n",
    "\n",
    "path_x = [subarray[0] for subarray in path_data]\n",
    "path_y = [subarray[1] for subarray in path_data]\n",
    "\n",
    "# A*\n",
    "A_explored_x = [subarray[0] for subarray in A_explored_data]\n",
    "A_explored_y = [subarray[1] for subarray in A_explored_data]\n",
    "\n",
    "A_path_x = [subarray[0] for subarray in A_path_data]\n",
    "A_path_y = [subarray[1] for subarray in A_path_data]\n",
    "\n",
    "# A* Bidirectional\n",
    "\n",
    "#ABid_explored_x = [subarray[0] for subarray in ABid_explored_data]\n",
    "#ABid_explored_y = [subarray[1] for subarray in ABid_explored_data]\n",
    "\n",
    "#ABid_path_x = [subarray[0] for subarray in ABid_path_data]\n",
    "#ABid_path_y = [subarray[1] for subarray in ABid_path_data]\n",
    "# ALT Avoid\n",
    "\n",
    "ALT_Avoid_explored_x = [subarray[0] for subarray in Avoid_explored_data]\n",
    "ALT_Avoid_explored_y = [subarray[1] for subarray in Avoid_explored_data]\n",
    "\n",
    "ALT_Avoid_path_x = [subarray[0] for subarray in Avoid_path_data]\n",
    "ALT_Avoid_path_y = [subarray[1] for subarray in Avoid_path_data]\n",
    "\n",
    "# ALT Max\n",
    "\n",
    "ALT_Max_explored_x = [subarray[0] for subarray in Max_explored_data]\n",
    "ALT_Max_explored_y = [subarray[1] for subarray in Max_explored_data]\n",
    "\n",
    "ALT_Max_path_x = [subarray[0] for subarray in Max_path_data]\n",
    "ALT_Max_path_y = [subarray[1] for subarray in Max_path_data]\n",
    "\n",
    "# ALT Furthest\n",
    "\n",
    "ALT_Furthest_explored_x = [subarray[0] for subarray in Furthest_explored_data]\n",
    "ALT_Furthest_explored_y = [subarray[1] for subarray in Furthest_explored_data]\n",
    "\n",
    "ALT_Furthest_path_x = [subarray[0] for subarray in Furthest_path_data]\n",
    "ALT_Furthest_path_y = [subarray[1] for subarray in Furthest_path_data]\n",
    "\n",
    "ALT_Furthest_Landmarks_x = [subarray[0] for subarray in Furthest_landmarks_data]\n",
    "ALT_Furthest_Landmarks_y = [subarray[1] for subarray in Furthest_landmarks_data]\n"
   ]
  },
  {
   "cell_type": "code",
   "execution_count": null,
   "id": "e66b7c25",
   "metadata": {},
   "outputs": [],
   "source": [
    "## A* Bidi plot\n",
    "#plt.title('Figure 8: Visualization of Bidirectional A Star')\n",
    "#plt.scatter(x_coord, y_coord, s=0.01, color='b', label='Points in the Map', alpha=0.7)\n",
    "#plt.scatter(ABid_explored_x, ABid_explored_y, s=0.01, color='r', label='ABid Explored', alpha=1)\n",
    "#plt.scatter(ABid_path_x, ABid_path_y, s=0.01, color='black', label='Path from Source to Target', alpha=1)\n",
    "#plt.legend(markerscale=20)\n",
    "#plt.axis('off')\n",
    "#plt.show()"
   ]
  },
  {
   "cell_type": "code",
   "execution_count": null,
   "id": "c9659614",
   "metadata": {},
   "outputs": [],
   "source": [
    "print(len(explored_x))\n",
    "print(len(ALT_Avoid_explored_x))\n",
    "print(len(A_explored_x))"
   ]
  },
  {
   "cell_type": "code",
   "execution_count": null,
   "id": "ad0af382",
   "metadata": {},
   "outputs": [],
   "source": [
    "## ALT Avoid plot\n",
    "plt.title('Figure 8: Visualization of ALT Avoid')\n",
    "plt.scatter(x_coord, y_coord, s=0.01, color='b', label='Points in the Map', alpha=0.7)\n",
    "plt.scatter(ALT_Avoid_explored_x, ALT_Avoid_explored_y, s=0.01, color='r', label='Avoid Explored', alpha=1)\n",
    "plt.scatter(ALT_Avoid_path_x, ALT_Avoid_path_y, s=0.01, color='black', label='Path from Source to Target', alpha=1)\n",
    "plt.legend(markerscale=20)\n",
    "plt.axis('off')\n",
    "plt.show()"
   ]
  },
  {
   "cell_type": "code",
   "execution_count": null,
   "id": "63965909",
   "metadata": {},
   "outputs": [],
   "source": [
    "## Dijkstra plot\n",
    "plt.title('Figure 1: Visualization of Dijkstra')\n",
    "plt.scatter(x_coord, y_coord, s=0.01, color='b', label='Points in the Map', alpha=0.7)\n",
    "plt.scatter(explored_x, explored_y, s=0.01, color='r', label='Explored Points', alpha=0.7)\n",
    "plt.scatter(path_x, path_y, s=0.01, color='black', label='Path from Source to Target', alpha=1)\n",
    "plt.legend(markerscale=20)\n",
    "plt.axis('off')\n",
    "plt.show()"
   ]
  },
  {
   "cell_type": "code",
   "execution_count": null,
   "id": "6a0adeb9",
   "metadata": {},
   "outputs": [],
   "source": [
    "## A* plot\n",
    "\n",
    "plt.title('Figure 2: Visualization of A*')\n",
    "plt.scatter(x_coord, y_coord, s=0.01, color='b', label='Points in the Map', alpha=0.7)\n",
    "plt.scatter(A_explored_x, A_explored_y, s=0.01, color='r', label='Explored Points', alpha=0.7)\n",
    "plt.scatter(A_path_x, A_path_y, s=0.01, color='black', label='Path from Source to Target', alpha=1)\n",
    "plt.legend(markerscale=20)\n",
    "plt.axis('off')\n",
    "plt.show()\n"
   ]
  },
  {
   "cell_type": "code",
   "execution_count": null,
   "id": "983e73a5",
   "metadata": {},
   "outputs": [],
   "source": [
    "## Exploration comparison\n",
    "\n",
    "plt.title('Figure 3: Dijkstra vs A* exploration')\n",
    "plt.scatter(explored_x, explored_y, s=0.01, color='b', label='Dijkstra Exploration', alpha=0.7)\n",
    "plt.scatter(A_explored_x, A_explored_y, s=0.01, color='r', label='A* Exploration', alpha=0.7)\n",
    "plt.scatter(A_path_x, A_path_y, s=0.01, color='black', label='Path from Source to Target', alpha=1)\n",
    "plt.legend(markerscale=20, loc='lower left')\n",
    "plt.axis('off')\n",
    "plt.show()"
   ]
  },
  {
   "cell_type": "code",
   "execution_count": null,
   "id": "65486234",
   "metadata": {},
   "outputs": [],
   "source": []
  },
  {
   "cell_type": "code",
   "execution_count": null,
   "id": "2e73fce8",
   "metadata": {},
   "outputs": [],
   "source": [
    "## ALT Furthest\n",
    "plt.title('Figure 5: Visualization of ALT Furthest')\n",
    "plt.scatter(x_coord, y_coord, s=0.01, color='b', label='Points in the Map', alpha=0.7)\n",
    "plt.scatter(ALT_Furthest_explored_x, ALT_Furthest_explored_y, s=0.01, color='r', label='ALT Furthest Explored Points', alpha=0.7)\n",
    "plt.scatter(ALT_Furthest_path_x, ALT_Furthest_path_y, s=0.01, color='black', label='Path from Source to Target', alpha=1)\n",
    "plt.legend(markerscale=20, loc='lower left')\n",
    "plt.axis('off')\n",
    "plt.show()"
   ]
  },
  {
   "cell_type": "code",
   "execution_count": null,
   "id": "60da923f",
   "metadata": {},
   "outputs": [],
   "source": []
  },
  {
   "cell_type": "code",
   "execution_count": null,
   "id": "3d63cdd0",
   "metadata": {},
   "outputs": [],
   "source": [
    "## ALT Furthest\n",
    "plt.title('Figure 7: Visualization of ALT Furthest vs A*')\n",
    "plt.scatter(A_explored_x, A_explored_y, s=0.01, color='b', label ='A* Explored Points', alpha=1)\n",
    "plt.scatter(ALT_Furthest_explored_x, ALT_Furthest_explored_y, s=0.01, color='r', label='ALT Furthest Explored Points', alpha=0.3)\n",
    "plt.scatter(ALT_Furthest_path_x, ALT_Furthest_path_y, s=0.01, color='black', label='Path from Source to Target', alpha=1)\n",
    "plt.legend(markerscale=20, loc='lower left')\n",
    "plt.axis('off')\n",
    "plt.show()"
   ]
  },
  {
   "cell_type": "code",
   "execution_count": null,
   "id": "f77d149d",
   "metadata": {},
   "outputs": [],
   "source": [
    "## ALT Furthest\n",
    "plt.title('Figure 7: Visualization of ALT Furthest vs Dijkstra')\n",
    "plt.scatter(x_coord, y_coord, s=0.01, color = 'b', label = 'Map points', alpha=0.3)\n",
    "plt.scatter(explored_x, explored_y, s=0.01, color='g', label ='A* Explored Points', alpha=1)\n",
    "plt.scatter(ALT_Furthest_Landmarks_x, ALT_Furthest_Landmarks_y, s=10, color='purple', label ='A* Explored Points', alpha=1)\n",
    "plt.scatter(ALT_Furthest_explored_x, ALT_Furthest_explored_y, s=0.01, color='r', label='ALT Furthest Explored Points', alpha=0.7)\n",
    "plt.scatter(ALT_Furthest_path_x, ALT_Furthest_path_y, s=0.01, color='black', label='Path from Source to Target', alpha=1)\n",
    "plt.legend(markerscale=20, loc='lower left')\n",
    "plt.axis('off')\n",
    "plt.show()"
   ]
  },
  {
   "cell_type": "code",
   "execution_count": null,
   "id": "2b6b08e0",
   "metadata": {},
   "outputs": [],
   "source": [
    "print('Explored Dijkstra:',len(explored_x))\n",
    "print('Explored ALT Furthest:',len(ALT_Furthest_explored_x))\n",
    "print('Explored ALT Avoid:',len(ALT_Avoid_explored_x))\n",
    "print('Explored A*:',len(A_explored_x))\n",
    "print('Path length Dijkstra:',len(path_x))\n",
    "print('Path length ALT Avoid:',len(ALT_Avoid_path_x))\n",
    "print('Path length ALT Furthest:',len(ALT_Furthest_path_x))\n",
    "print('Path length Bidirectional A*:',len(ABid_path_x))\n"
   ]
  },
  {
   "cell_type": "code",
   "execution_count": null,
   "id": "9bc64a82",
   "metadata": {},
   "outputs": [],
   "source": [
    "for i in range(len(path_x)):\n",
    "    if path_x[i] == ALT_Avoid_path_x[24]:\n",
    "        print(path_x[i], ALT_Avoid_path_x[i])\n",
    "        print(i)"
   ]
  },
  {
   "cell_type": "code",
   "execution_count": null,
   "id": "81ec4d7b",
   "metadata": {},
   "outputs": [],
   "source": []
  }
 ],
 "metadata": {
  "kernelspec": {
   "display_name": "Python 3 (ipykernel)",
   "language": "python",
   "name": "python3"
  },
  "language_info": {
   "codemirror_mode": {
    "name": "ipython",
    "version": 3
   },
   "file_extension": ".py",
   "mimetype": "text/x-python",
   "name": "python",
   "nbconvert_exporter": "python",
   "pygments_lexer": "ipython3",
   "version": "3.10.9"
  }
 },
 "nbformat": 4,
 "nbformat_minor": 5
}
