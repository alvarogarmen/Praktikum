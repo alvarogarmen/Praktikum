{
 "cells": [
  {
   "cell_type": "markdown",
   "id": "dc458e01",
   "metadata": {},
   "source": [
    "## Script to visualize the performance of Dijkstra, A* and ALT"
   ]
  },
  {
   "cell_type": "code",
   "execution_count": 1,
   "id": "958d446c",
   "metadata": {},
   "outputs": [],
   "source": [
    "## Imports\n",
    "import numpy as np\n",
    "import matplotlib.pyplot as plt"
   ]
  },
  {
   "cell_type": "code",
   "execution_count": 2,
   "id": "7f81be19",
   "metadata": {},
   "outputs": [],
   "source": [
    "## Read data\n",
    "\n",
    "# Dijkstra data\n",
    "explored_data = np.loadtxt('explored_nodes', delimiter = ' ')\n",
    "data = np.loadtxt('roadnetworks/deu.graph.xyz', delimiter=' ', skiprows=1)\n",
    "path_data = np.loadtxt('path')\n",
    "\n",
    "# Bidirectional Dijkstra data\n",
    "\n",
    "Bidi_explored_data = np.loadtxt('DijkstraBidi_explored')\n",
    "\n",
    "# A* data\n",
    "\n",
    "A_explored_data = np.loadtxt('AStar_explored_nodes.txt', delimiter = ' ')\n",
    "A_path_data = np.loadtxt('AStar_path.txt')\n",
    "\n",
    "# A* Bidirectional\n",
    "\n",
    "ABid_explored_data = np.loadtxt('AStar_Bidirectional_explored')\n",
    "\n",
    "\n",
    "# ALT Avoid\n",
    "\n",
    "Avoid_explored_data = np.loadtxt('ALTAvoid_explored')\n",
    "Avoid_path_data = np.loadtxt('ALTAvoid_path')\n",
    "\n",
    "Avoid_landmarks_data = np.loadtxt('Landmarks_Avoidcoord')\n",
    "\n",
    "BIAvoid_explored_data = np.loadtxt('ALTAvoidBi_explored')\n",
    "\n",
    "\n",
    "# ALT Farthest\n",
    "\n",
    "Farthest_explored_data = np.loadtxt('ALTFarthest_explored', delimiter = ' ')\n",
    "\n",
    "Farthest_landmarks_data = np.loadtxt('Landmarks_Farthestcoord')\n",
    "\n",
    "# Bidirectional ALT Farthest\n",
    "\n",
    "Bidi_Farthest_explored_data = np.loadtxt('ALTFarthestBi_explored')\n"
   ]
  },
  {
   "cell_type": "code",
   "execution_count": 3,
   "id": "d77cbb87",
   "metadata": {},
   "outputs": [],
   "source": [
    "## Split coordinates into arrays\n",
    "\n",
    "# Global\n",
    "\n",
    "x_coord = [subarray[0] for subarray in data]\n",
    "y_coord = [subarray[1] for subarray in data]\n",
    "\n",
    "# Dijkstra\n",
    "\n",
    "explored_x = [subarray[0] for subarray in explored_data]\n",
    "explored_y = [subarray[1] for subarray in explored_data]\n",
    "\n",
    "path_x = [subarray[0] for subarray in path_data]\n",
    "path_y = [subarray[1] for subarray in path_data]\n",
    "\n",
    "# Bidirectional Dijkstra\n",
    "\n",
    "Bidi_explored_x = [subarray[0] for subarray in Bidi_explored_data]\n",
    "Bidi_explored_y = [subarray[1] for subarray in Bidi_explored_data]\n",
    "\n",
    "# A*\n",
    "A_explored_x = [subarray[0] for subarray in A_explored_data]\n",
    "A_explored_y = [subarray[1] for subarray in A_explored_data]\n",
    "\n",
    "A_path_x = [subarray[0] for subarray in A_path_data]\n",
    "A_path_y = [subarray[1] for subarray in A_path_data]\n",
    "\n",
    "# A* Bidirectional\n",
    "\n",
    "ABid_explored_x = [subarray[0] for subarray in ABid_explored_data]\n",
    "ABid_explored_y = [subarray[1] for subarray in ABid_explored_data]\n",
    "\n",
    "# ALT Avoid\n",
    "\n",
    "ALT_Avoid_explored_x = [subarray[0] for subarray in Avoid_explored_data]\n",
    "ALT_Avoid_explored_y = [subarray[1] for subarray in Avoid_explored_data]\n",
    "\n",
    "ALT_Avoid_path_x = [subarray[0] for subarray in Avoid_path_data]\n",
    "ALT_Avoid_path_y = [subarray[1] for subarray in Avoid_path_data]\n",
    "\n",
    "Landmarks_Avoid_x = [subarray[0] for subarray in Avoid_landmarks_data]\n",
    "Landmarks_Avoid_y = [subarray[1] for subarray in Avoid_landmarks_data]\n",
    " \n",
    "\n",
    "ALTBI_Avoid_explored_x = [subarray[0] for subarray in BIAvoid_explored_data]\n",
    "ALTBI_Avoid_explored_y = [subarray[1] for subarray in BIAvoid_explored_data]\n",
    "\n",
    "# ALT Farthest\n",
    "\n",
    "ALT_Farthest_explored_x = [subarray[0] for subarray in Farthest_explored_data]\n",
    "ALT_Farthest_explored_y = [subarray[1] for subarray in Farthest_explored_data]\n",
    "\n",
    "ALT_Farthest_Landmarks_x = [subarray[0] for subarray in Farthest_landmarks_data]\n",
    "ALT_Farthest_Landmarks_y = [subarray[1] for subarray in Farthest_landmarks_data]\n",
    "\n",
    "# Bidirectional ALT Farthest\n",
    "\n",
    "Bidi_ALT_Farthest_x = [subarray[0] for subarray in Bidi_Farthest_explored_data]\n",
    "Bidi_ALT_Farthest_y = [subarray[1] for subarray in Bidi_Farthest_explored_data]\n"
   ]
  },
  {
   "cell_type": "code",
   "execution_count": null,
   "id": "6fa80da3",
   "metadata": {},
   "outputs": [],
   "source": [
    "## Dijkstra plot\n",
    "plt.title('Figure 1: Visualization of Dijkstra')\n",
    "plt.scatter(x_coord, y_coord, s=0.01, color='b', label='Points in the Map', alpha=0.7)\n",
    "plt.scatter(explored_x, explored_y, s=0.01, color='r', label='Explored Points', alpha=0.7)\n",
    "plt.scatter(path_x, path_y, s=0.01, color='black', label='Path from Source to Target', alpha=1)\n",
    "plt.legend(loc='lower left', markerscale=20)\n",
    "plt.axis('off')\n",
    "plt.show()"
   ]
  },
  {
   "cell_type": "code",
   "execution_count": null,
   "id": "e66b7c25",
   "metadata": {},
   "outputs": [],
   "source": [
    "## Bidirectional Dijkstra Plot\n",
    "plt.title('Figure 2: Visualization of Bidirectional Dijkstra')\n",
    "plt.scatter(x_coord, y_coord, s=0.01, color='b', label='Points in the Map', alpha=0.7)\n",
    "plt.scatter(Bidi_explored_x, Bidi_explored_y, s=0.01, color='r', label='ABid Explored', alpha=1)\n",
    "plt.scatter(path_x, path_y, s=0.01, color='black', label='Path from Source to Target', alpha=1)\n",
    "plt.legend(markerscale=20)\n",
    "plt.axis('off')\n",
    "plt.show()"
   ]
  },
  {
   "cell_type": "code",
   "execution_count": null,
   "id": "c9659614",
   "metadata": {},
   "outputs": [],
   "source": [
    "print(len(explored_x))\n",
    "print(len(ALT_Avoid_explored_x))\n",
    "print(len(ALTBI_Avoid_explored_x))\n",
    "print(len(A_explored_x))\n",
    "print(len(path_x))\n",
    "print(len(Bidi_explored_x))\n",
    "print(len(ABid_explored_x))"
   ]
  },
  {
   "cell_type": "code",
   "execution_count": null,
   "id": "09dc8761",
   "metadata": {},
   "outputs": [],
   "source": [
    "## A* plot\n",
    "\n",
    "plt.title('Figure 2: Visualization of A*')\n",
    "plt.scatter(x_coord, y_coord, s=0.01, color='b', label='Points in the Map', alpha=0.7)\n",
    "plt.scatter(A_explored_x, A_explored_y, s=0.01, color='r', label='Explored Points', alpha=1)\n",
    "plt.scatter(A_path_x, A_path_y, s=0.01, color='black', label='Path from Source to Target', alpha=1)\n",
    "plt.legend(loc='lower left', markerscale=20)\n",
    "plt.axis('off')\n",
    "plt.show()\n"
   ]
  },
  {
   "cell_type": "code",
   "execution_count": null,
   "id": "f2c94d61",
   "metadata": {},
   "outputs": [],
   "source": [
    "## Bidirectional A* plot\n",
    "\n",
    "plt.title('Figure 3: Visualization of Bidirectional A*')\n",
    "plt.scatter(x_coord, y_coord, s=0.01, color='b', label='Points in the Map', alpha=0.7)\n",
    "plt.scatter(ABid_explored_x, ABid_explored_y, s=0.01, color='r', label='Explored Points', alpha=0.7)\n",
    "plt.scatter(A_path_x, A_path_y, s=0.01, color='black', label='Path from Source to Target', alpha=1)\n",
    "plt.legend(loc='lower left', markerscale=20)\n",
    "plt.axis('off')\n",
    "plt.show()"
   ]
  },
  {
   "cell_type": "code",
   "execution_count": null,
   "id": "ad0af382",
   "metadata": {},
   "outputs": [],
   "source": [
    "## ALT Avoid plot\n",
    "plt.title('Figure 4: Visualization of ALT Avoid')\n",
    "plt.scatter(x_coord, y_coord, s=0.01, color='b', label='Points in the Map', alpha=0.7)\n",
    "plt.scatter(ALT_Avoid_explored_x, ALT_Avoid_explored_y, s=0.01, color='r', label='Avoid Explored', alpha=1)\n",
    "plt.scatter(ALT_Avoid_path_x, ALT_Avoid_path_y, s=0.01, color='black', label='Path from Source to Target', alpha=1)\n",
    "plt.legend(loc='lower left', markerscale=20)\n",
    "plt.scatter(Landmarks_Avoid_x, Landmarks_Avoid_y, s=100, color='green', label='Landmakrs', alpha=1, marker='+')\n",
    "\n",
    "plt.axis('off')\n",
    "plt.show()"
   ]
  },
  {
   "cell_type": "code",
   "execution_count": null,
   "id": "2d9b9ad7",
   "metadata": {},
   "outputs": [],
   "source": [
    "## Bi ALT Avoid plot\n",
    "plt.title('Figure 5: Visualization of Bidirectional ALT Avoid')\n",
    "plt.scatter(x_coord, y_coord, s=0.01, color='b', label='Points in the Map', alpha=0.7)\n",
    "plt.scatter(ALTBI_Avoid_explored_x, ALTBI_Avoid_explored_y, s=0.01, color='r', label='Avoid Explored', alpha=1)\n",
    "plt.scatter(ALT_Avoid_path_x, ALT_Avoid_path_y, s=0.01, color='black', label='Path from Source to Target', alpha=1)\n",
    "plt.legend(loc='lower left', markerscale=20)\n",
    "plt.scatter(Landmarks_Avoid_x, Landmarks_Avoid_y, s=50, color='green', label='Landmakrs', alpha=1, marker='+')\n",
    "\n",
    "plt.axis('off')\n",
    "plt.show()\n"
   ]
  },
  {
   "cell_type": "code",
   "execution_count": null,
   "id": "2e73fce8",
   "metadata": {},
   "outputs": [],
   "source": [
    "## ALT Farthest\n",
    "plt.title('Figure 6: Visualization of ALT Farthest')\n",
    "plt.scatter(x_coord, y_coord, s=0.01, color='b', label='Points in the Map', alpha=0.7)\n",
    "plt.scatter(ALT_Farthest_explored_x, ALT_Farthest_explored_y, s=0.01, color='r', label='ALT Furthest Explored Points', alpha=0.7)\n",
    "plt.scatter(path_x, path_y, s=0.01, color='black', label='Path from Source to Target', alpha=1)\n",
    "plt.legend(markerscale=20, loc='lower left')\n",
    "plt.scatter(ALT_Farthest_Landmarks_x, ALT_Farthest_Landmarks_y, s=50, color='green', label='Landmakrs', alpha=1, marker='+')\n",
    "\n",
    "plt.axis('off')\n",
    "plt.show()"
   ]
  },
  {
   "cell_type": "code",
   "execution_count": null,
   "id": "6053690e",
   "metadata": {},
   "outputs": [],
   "source": [
    "## Bidirectional ALT Farthest\n",
    "plt.title('Figure 7: Visualization of Bidirectional ALT Farthest')\n",
    "plt.scatter(x_coord, y_coord, s=0.01, color='b', label='Points in the Map', alpha=0.7)\n",
    "plt.scatter(Bidi_ALT_Farthest_x, Bidi_ALT_Farthest_y, s=0.01, color='r', label='ALT Furthest Explored Points', alpha=0.7)\n",
    "plt.scatter(path_x, path_y, s=0.01, color='black', label='Path from Source to Target', alpha=1)\n",
    "plt.legend(markerscale=20, loc='lower left')\n",
    "plt.scatter(ALT_Farthest_Landmarks_x, ALT_Farthest_Landmarks_y, s=50, color='green', label='Landmakrs', alpha=1, marker='+')\n",
    "\n",
    "plt.axis('off')\n",
    "plt.show()"
   ]
  },
  {
   "cell_type": "code",
   "execution_count": null,
   "id": "2b6b08e0",
   "metadata": {},
   "outputs": [],
   "source": [
    "print('Explored Dijkstra:',len(explored_x))\n",
    "print('Explored Bidirectional Dijkstra:', len(Bidi_explored_x))\n",
    "print('Explored A*:',len(A_explored_x))\n",
    "print('Explored Bidirectional A*',len(ABid_explored_x))\n",
    "print('Explored ALT Farthest:',len(ALT_Farthest_explored_x))\n",
    "print('Explored Bidirectional ALT Farthest',len(Bidi_ALT_Farthest_x))\n",
    "print('Path length Dijkstra:',len(path_x))\n"
   ]
  },
  {
   "cell_type": "code",
   "execution_count": null,
   "id": "81ec4d7b",
   "metadata": {},
   "outputs": [],
   "source": []
  }
 ],
 "metadata": {
  "kernelspec": {
   "display_name": "Python 3 (ipykernel)",
   "language": "python",
   "name": "python3"
  },
  "language_info": {
   "codemirror_mode": {
    "name": "ipython",
    "version": 3
   },
   "file_extension": ".py",
   "mimetype": "text/x-python",
   "name": "python",
   "nbconvert_exporter": "python",
   "pygments_lexer": "ipython3",
   "version": "3.10.9"
  }
 },
 "nbformat": 4,
 "nbformat_minor": 5
}
